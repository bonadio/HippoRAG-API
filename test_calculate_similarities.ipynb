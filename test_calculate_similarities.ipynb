{
 "cells": [
  {
   "cell_type": "code",
   "execution_count": 1,
   "metadata": {},
   "outputs": [],
   "source": [
    "from dotenv import load_dotenv\n",
    "import numpy as np\n",
    "import faiss\n",
    "from langchain_openai import OpenAIEmbeddings"
   ]
  },
  {
   "cell_type": "code",
   "execution_count": 3,
   "metadata": {},
   "outputs": [
    {
     "name": "stdout",
     "output_type": "stream",
     "text": [
      "[[0 1]\n",
      " [1 0]\n",
      " [2 3]\n",
      " [3 2]\n",
      " [4 0]]\n",
      "[[0.         0.89901006]\n",
      " [0.         0.89901006]\n",
      " [0.         0.78991795]\n",
      " [0.         0.78991795]\n",
      " [0.         1.210985  ]]\n"
     ]
    }
   ],
   "source": [
    "entities = [\"casa\",\"moradia\",\"cachorro\",\"gato\",\"elevador\"]\n",
    "\n",
    "openai_embeddings = OpenAIEmbeddings(model=\"text-embedding-3-small\", dimensions=256)\n",
    "entities_embeddings = openai_embeddings.embed_documents(entities)\n",
    "\n",
    "# convert to numpy array\n",
    "vectors = np.array(entities_embeddings)\n",
    "\n",
    "# vectors = np.random.rand(10, 256).astype('float32')\n",
    "\n",
    "# Build the index\n",
    "index = faiss.IndexHNSWFlat(256, 32)\n",
    "\n",
    "# Add the vectors to the index\n",
    "index.add(vectors)\n",
    "\n",
    "# Perform the search\n",
    "# k is the number of nearest neighbors to find\n",
    "k = 2\n",
    "\n",
    "# Search the index. This will return the distances and indices of the nearest neighbors\n",
    "distances, indices = index.search(vectors, k)\n",
    "\n",
    "# The 'indices' array contains the indices of the k most similar vectors for each vector\n",
    "# For example, indices[0] will give the indices of the 5 nearest neighbors of the first vector\n",
    "print(indices)\n",
    "print(distances)"
   ]
  }
 ],
 "metadata": {
  "kernelspec": {
   "display_name": "ircot",
   "language": "python",
   "name": "python3"
  },
  "language_info": {
   "codemirror_mode": {
    "name": "ipython",
    "version": 3
   },
   "file_extension": ".py",
   "mimetype": "text/x-python",
   "name": "python",
   "nbconvert_exporter": "python",
   "pygments_lexer": "ipython3",
   "version": "3.11.9"
  }
 },
 "nbformat": 4,
 "nbformat_minor": 2
}
